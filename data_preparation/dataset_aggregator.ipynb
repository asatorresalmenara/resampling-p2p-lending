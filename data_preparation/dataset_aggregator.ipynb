{
 "cells": [
  {
   "cell_type": "markdown",
   "metadata": {},
   "source": [
    "## P2P Lending Dataset Preparation"
   ]
  },
  {
   "cell_type": "markdown",
   "metadata": {},
   "source": [
    "This script has the goal of merging the data made available from [Lending Club](https://www.lendingclub.com) between 2007 and 2016.\n",
    "In this work, we tackle only \"Charged Off\" and \"Fully Paid\" loans.\n",
    "The main steps taken to prepare the dataset are the following:\n",
    "\n",
    "1. Data load and header sanity check\n",
    "2. Data concatenation\n",
    "3. Removal and treatment of string variables\n",
    "4. Removal of instances (loan requests) with many missing values\n",
    "5. Removal of features (attributes) with many missing values\n",
    "6. Removal of variables of low variability\n",
    "7. Removal of features to avoid data leakage\n",
    "8. Missing values imputation"
   ]
  },
  {
   "cell_type": "markdown",
   "metadata": {},
   "source": [
    "### 1. Data load and header sanity check"
   ]
  },
  {
   "cell_type": "code",
   "execution_count": 54,
   "metadata": {
    "collapsed": true
   },
   "outputs": [],
   "source": [
    "import pandas as pd\n",
    "import numpy as np\n",
    "from scipy import *\n",
    "from scipy.stats.stats import pearsonr, spearmanr\n",
    "from IPython.display import display\n",
    "import matplotlib.pyplot as plt\n",
    "%matplotlib inline"
   ]
  },
  {
   "cell_type": "code",
   "execution_count": 55,
   "metadata": {
    "collapsed": false
   },
   "outputs": [],
   "source": [
    "df2007to2011 = pd.read_csv(\"./LoanStats3a_securev1.csv\", low_memory=False, skiprows=[0])\n",
    "df2012to2013 = pd.read_csv(\"./LoanStats3b_securev1.csv\", low_memory=False, skiprows=[0])\n",
    "df2014       = pd.read_csv(\"./LoanStats3c_securev1.csv\", low_memory=False, skiprows=[0])\n",
    "df2015       = pd.read_csv(\"./LoanStats3d_securev1.csv\", low_memory=False, skiprows=[0])\n",
    "df2016Q1     = pd.read_csv(\"./LoanStats_securev1_2016Q1.csv\", low_memory=False, skiprows=[0])\n",
    "df2016Q2     = pd.read_csv(\"./LoanStats_securev1_2016Q2.csv\", low_memory=False, skiprows=[0])\n",
    "df2016Q3     = pd.read_csv(\"./LoanStats_securev1_2016Q3.csv\", low_memory=False, skiprows=[0])\n",
    "df2016Q4     = pd.read_csv(\"./LoanStats_securev1_2016Q4.csv\", low_memory=False, skiprows=[0])\n",
    "\n",
    "all_dfs = [df2007to2011, df2012to2013, df2014, df2015, df2016Q1, df2016Q2, df2016Q3, df2016Q4]"
   ]
  },
  {
   "cell_type": "markdown",
   "metadata": {},
   "source": [
    "#### Checking out how the data is shaped and if they match"
   ]
  },
  {
   "cell_type": "code",
   "execution_count": 56,
   "metadata": {
    "collapsed": false
   },
   "outputs": [],
   "source": [
    "columnsFirstDF = list(all_dfs[0].columns.values)\n",
    "error = False\n",
    "for df in all_dfs:\n",
    "    if set(df.columns.values) != set(columnsFirstDF):\n",
    "        error = True\n",
    "\n",
    "if error:\n",
    "    print(\"Subfiles are not maching!\")"
   ]
  },
  {
   "cell_type": "markdown",
   "metadata": {
    "collapsed": false
   },
   "source": [
    "### 2. Data concatenation"
   ]
  },
  {
   "cell_type": "code",
   "execution_count": 57,
   "metadata": {
    "collapsed": false
   },
   "outputs": [
    {
     "name": "stdout",
     "output_type": "stream",
     "text": [
      "(578331, 128)\n"
     ]
    }
   ],
   "source": [
    "df = pd.concat(all_dfs)\n",
    "#### Filters dataset to contain only \"Charged Off\" and \"Fully Paid\" loans\n",
    "df = df.loc[(df.loan_status == \"Charged Off\") | (df.loan_status == \"Fully Paid\")]\n",
    "df.set_index('id', inplace = True)\n",
    "df.reset_index(inplace = True)\n",
    "df.sort_index(inplace = True)\n",
    "print(df.shape)"
   ]
  },
  {
   "cell_type": "markdown",
   "metadata": {},
   "source": [
    "### 7. Removal of features to avoid data leakage"
   ]
  },
  {
   "cell_type": "code",
   "execution_count": 58,
   "metadata": {
    "collapsed": false
   },
   "outputs": [
    {
     "data": {
      "text/html": [
       "<div>\n",
       "<table border=\"1\" class=\"dataframe\">\n",
       "  <thead>\n",
       "    <tr style=\"text-align: right;\">\n",
       "      <th></th>\n",
       "      <th>loan_amnt</th>\n",
       "      <th>term</th>\n",
       "      <th>installment</th>\n",
       "      <th>grade</th>\n",
       "      <th>emp_length</th>\n",
       "      <th>home_ownership</th>\n",
       "      <th>annual_inc</th>\n",
       "      <th>verification_status</th>\n",
       "      <th>issue_d</th>\n",
       "      <th>loan_status</th>\n",
       "      <th>pymnt_plan</th>\n",
       "      <th>desc</th>\n",
       "      <th>purpose</th>\n",
       "      <th>addr_state</th>\n",
       "      <th>dti</th>\n",
       "      <th>...</th>\n",
       "      <th>total_bc_limit</th>\n",
       "      <th>total_il_high_credit_limit</th>\n",
       "      <th>revol_bal_joint</th>\n",
       "      <th>sec_app_fico_range_low</th>\n",
       "      <th>sec_app_fico_range_high</th>\n",
       "      <th>sec_app_earliest_cr_line</th>\n",
       "      <th>sec_app_inq_last_6mths</th>\n",
       "      <th>sec_app_mort_acc</th>\n",
       "      <th>sec_app_open_acc</th>\n",
       "      <th>sec_app_revol_util</th>\n",
       "      <th>sec_app_open_il_6m</th>\n",
       "      <th>sec_app_num_rev_accts</th>\n",
       "      <th>sec_app_chargeoff_within_12_mths</th>\n",
       "      <th>sec_app_collections_12_mths_ex_med</th>\n",
       "      <th>sec_app_mths_since_last_major_derog</th>\n",
       "    </tr>\n",
       "  </thead>\n",
       "  <tbody>\n",
       "    <tr>\n",
       "      <th>0</th>\n",
       "      <td>5000.0</td>\n",
       "      <td>36 months</td>\n",
       "      <td>162.87</td>\n",
       "      <td>B</td>\n",
       "      <td>10+ years</td>\n",
       "      <td>RENT</td>\n",
       "      <td>24000.0</td>\n",
       "      <td>Verified</td>\n",
       "      <td>Dec-2011</td>\n",
       "      <td>Fully Paid</td>\n",
       "      <td>n</td>\n",
       "      <td>Borrower added on 12/22/11 &gt; I need to upgra...</td>\n",
       "      <td>credit_card</td>\n",
       "      <td>AZ</td>\n",
       "      <td>27.65</td>\n",
       "      <td>...</td>\n",
       "      <td>NaN</td>\n",
       "      <td>NaN</td>\n",
       "      <td>NaN</td>\n",
       "      <td>NaN</td>\n",
       "      <td>NaN</td>\n",
       "      <td>NaN</td>\n",
       "      <td>NaN</td>\n",
       "      <td>NaN</td>\n",
       "      <td>NaN</td>\n",
       "      <td>NaN</td>\n",
       "      <td>NaN</td>\n",
       "      <td>NaN</td>\n",
       "      <td>NaN</td>\n",
       "      <td>NaN</td>\n",
       "      <td>NaN</td>\n",
       "    </tr>\n",
       "    <tr>\n",
       "      <th>1</th>\n",
       "      <td>2500.0</td>\n",
       "      <td>60 months</td>\n",
       "      <td>59.83</td>\n",
       "      <td>C</td>\n",
       "      <td>&lt; 1 year</td>\n",
       "      <td>RENT</td>\n",
       "      <td>30000.0</td>\n",
       "      <td>Source Verified</td>\n",
       "      <td>Dec-2011</td>\n",
       "      <td>Charged Off</td>\n",
       "      <td>n</td>\n",
       "      <td>Borrower added on 12/22/11 &gt; I plan to use t...</td>\n",
       "      <td>car</td>\n",
       "      <td>GA</td>\n",
       "      <td>1.00</td>\n",
       "      <td>...</td>\n",
       "      <td>NaN</td>\n",
       "      <td>NaN</td>\n",
       "      <td>NaN</td>\n",
       "      <td>NaN</td>\n",
       "      <td>NaN</td>\n",
       "      <td>NaN</td>\n",
       "      <td>NaN</td>\n",
       "      <td>NaN</td>\n",
       "      <td>NaN</td>\n",
       "      <td>NaN</td>\n",
       "      <td>NaN</td>\n",
       "      <td>NaN</td>\n",
       "      <td>NaN</td>\n",
       "      <td>NaN</td>\n",
       "      <td>NaN</td>\n",
       "    </tr>\n",
       "    <tr>\n",
       "      <th>2</th>\n",
       "      <td>2400.0</td>\n",
       "      <td>36 months</td>\n",
       "      <td>84.33</td>\n",
       "      <td>C</td>\n",
       "      <td>10+ years</td>\n",
       "      <td>RENT</td>\n",
       "      <td>12252.0</td>\n",
       "      <td>Not Verified</td>\n",
       "      <td>Dec-2011</td>\n",
       "      <td>Fully Paid</td>\n",
       "      <td>n</td>\n",
       "      <td>NaN</td>\n",
       "      <td>small_business</td>\n",
       "      <td>IL</td>\n",
       "      <td>8.72</td>\n",
       "      <td>...</td>\n",
       "      <td>NaN</td>\n",
       "      <td>NaN</td>\n",
       "      <td>NaN</td>\n",
       "      <td>NaN</td>\n",
       "      <td>NaN</td>\n",
       "      <td>NaN</td>\n",
       "      <td>NaN</td>\n",
       "      <td>NaN</td>\n",
       "      <td>NaN</td>\n",
       "      <td>NaN</td>\n",
       "      <td>NaN</td>\n",
       "      <td>NaN</td>\n",
       "      <td>NaN</td>\n",
       "      <td>NaN</td>\n",
       "      <td>NaN</td>\n",
       "    </tr>\n",
       "    <tr>\n",
       "      <th>3</th>\n",
       "      <td>10000.0</td>\n",
       "      <td>36 months</td>\n",
       "      <td>339.31</td>\n",
       "      <td>C</td>\n",
       "      <td>10+ years</td>\n",
       "      <td>RENT</td>\n",
       "      <td>49200.0</td>\n",
       "      <td>Source Verified</td>\n",
       "      <td>Dec-2011</td>\n",
       "      <td>Fully Paid</td>\n",
       "      <td>n</td>\n",
       "      <td>Borrower added on 12/21/11 &gt; to pay for prop...</td>\n",
       "      <td>other</td>\n",
       "      <td>CA</td>\n",
       "      <td>20.00</td>\n",
       "      <td>...</td>\n",
       "      <td>NaN</td>\n",
       "      <td>NaN</td>\n",
       "      <td>NaN</td>\n",
       "      <td>NaN</td>\n",
       "      <td>NaN</td>\n",
       "      <td>NaN</td>\n",
       "      <td>NaN</td>\n",
       "      <td>NaN</td>\n",
       "      <td>NaN</td>\n",
       "      <td>NaN</td>\n",
       "      <td>NaN</td>\n",
       "      <td>NaN</td>\n",
       "      <td>NaN</td>\n",
       "      <td>NaN</td>\n",
       "      <td>NaN</td>\n",
       "    </tr>\n",
       "    <tr>\n",
       "      <th>4</th>\n",
       "      <td>3000.0</td>\n",
       "      <td>60 months</td>\n",
       "      <td>67.79</td>\n",
       "      <td>B</td>\n",
       "      <td>1 year</td>\n",
       "      <td>RENT</td>\n",
       "      <td>80000.0</td>\n",
       "      <td>Source Verified</td>\n",
       "      <td>Dec-2011</td>\n",
       "      <td>Fully Paid</td>\n",
       "      <td>n</td>\n",
       "      <td>Borrower added on 12/21/11 &gt; I plan on combi...</td>\n",
       "      <td>other</td>\n",
       "      <td>OR</td>\n",
       "      <td>17.94</td>\n",
       "      <td>...</td>\n",
       "      <td>NaN</td>\n",
       "      <td>NaN</td>\n",
       "      <td>NaN</td>\n",
       "      <td>NaN</td>\n",
       "      <td>NaN</td>\n",
       "      <td>NaN</td>\n",
       "      <td>NaN</td>\n",
       "      <td>NaN</td>\n",
       "      <td>NaN</td>\n",
       "      <td>NaN</td>\n",
       "      <td>NaN</td>\n",
       "      <td>NaN</td>\n",
       "      <td>NaN</td>\n",
       "      <td>NaN</td>\n",
       "      <td>NaN</td>\n",
       "    </tr>\n",
       "  </tbody>\n",
       "</table>\n",
       "<p>5 rows × 106 columns</p>\n",
       "</div>"
      ],
      "text/plain": [
       "   loan_amnt        term  installment grade emp_length home_ownership  \\\n",
       "0     5000.0   36 months       162.87     B  10+ years           RENT   \n",
       "1     2500.0   60 months        59.83     C   < 1 year           RENT   \n",
       "2     2400.0   36 months        84.33     C  10+ years           RENT   \n",
       "3    10000.0   36 months       339.31     C  10+ years           RENT   \n",
       "4     3000.0   60 months        67.79     B     1 year           RENT   \n",
       "\n",
       "   annual_inc verification_status   issue_d  loan_status pymnt_plan  \\\n",
       "0     24000.0            Verified  Dec-2011   Fully Paid          n   \n",
       "1     30000.0     Source Verified  Dec-2011  Charged Off          n   \n",
       "2     12252.0        Not Verified  Dec-2011   Fully Paid          n   \n",
       "3     49200.0     Source Verified  Dec-2011   Fully Paid          n   \n",
       "4     80000.0     Source Verified  Dec-2011   Fully Paid          n   \n",
       "\n",
       "                                                desc         purpose  \\\n",
       "0    Borrower added on 12/22/11 > I need to upgra...     credit_card   \n",
       "1    Borrower added on 12/22/11 > I plan to use t...             car   \n",
       "2                                                NaN  small_business   \n",
       "3    Borrower added on 12/21/11 > to pay for prop...           other   \n",
       "4    Borrower added on 12/21/11 > I plan on combi...           other   \n",
       "\n",
       "  addr_state    dti                 ...                  total_bc_limit  \\\n",
       "0         AZ  27.65                 ...                             NaN   \n",
       "1         GA   1.00                 ...                             NaN   \n",
       "2         IL   8.72                 ...                             NaN   \n",
       "3         CA  20.00                 ...                             NaN   \n",
       "4         OR  17.94                 ...                             NaN   \n",
       "\n",
       "  total_il_high_credit_limit  revol_bal_joint  sec_app_fico_range_low  \\\n",
       "0                        NaN              NaN                     NaN   \n",
       "1                        NaN              NaN                     NaN   \n",
       "2                        NaN              NaN                     NaN   \n",
       "3                        NaN              NaN                     NaN   \n",
       "4                        NaN              NaN                     NaN   \n",
       "\n",
       "   sec_app_fico_range_high  sec_app_earliest_cr_line  sec_app_inq_last_6mths  \\\n",
       "0                      NaN                       NaN                     NaN   \n",
       "1                      NaN                       NaN                     NaN   \n",
       "2                      NaN                       NaN                     NaN   \n",
       "3                      NaN                       NaN                     NaN   \n",
       "4                      NaN                       NaN                     NaN   \n",
       "\n",
       "   sec_app_mort_acc  sec_app_open_acc  sec_app_revol_util sec_app_open_il_6m  \\\n",
       "0               NaN               NaN                 NaN                NaN   \n",
       "1               NaN               NaN                 NaN                NaN   \n",
       "2               NaN               NaN                 NaN                NaN   \n",
       "3               NaN               NaN                 NaN                NaN   \n",
       "4               NaN               NaN                 NaN                NaN   \n",
       "\n",
       "   sec_app_num_rev_accts sec_app_chargeoff_within_12_mths  \\\n",
       "0                    NaN                              NaN   \n",
       "1                    NaN                              NaN   \n",
       "2                    NaN                              NaN   \n",
       "3                    NaN                              NaN   \n",
       "4                    NaN                              NaN   \n",
       "\n",
       "  sec_app_collections_12_mths_ex_med sec_app_mths_since_last_major_derog  \n",
       "0                                NaN                                 NaN  \n",
       "1                                NaN                                 NaN  \n",
       "2                                NaN                                 NaN  \n",
       "3                                NaN                                 NaN  \n",
       "4                                NaN                                 NaN  \n",
       "\n",
       "[5 rows x 106 columns]"
      ]
     },
     "metadata": {},
     "output_type": "display_data"
    }
   ],
   "source": [
    "featuresToRemove = ['id',\n",
    "                    'member_id',\n",
    "                    'title',\n",
    "                    'funded_amnt',\n",
    "                    'funded_amnt_inv',\n",
    "                    'sub_grade',\n",
    "                    'int_rate',\n",
    "                    'emp_title',\n",
    "                    'issued_d',\n",
    "                    'zip_code',\n",
    "                    'out_prncp',\n",
    "                    'out_prncp_inv',\n",
    "                    'total_pymnt',\n",
    "                    'total_pymnt_inv',\n",
    "                    'total_rec_prncp',\n",
    "                    'total_rec_int',\n",
    "                    'total_rec_late_fee',\n",
    "                    'recoveries',\n",
    "                    'collection_recovery_fee',\n",
    "                    'last_pymnt_d',\n",
    "                    'last_pymnt_amnt',\n",
    "                    'last_fico_range_low', \n",
    "                    'last_fico_range_high',\n",
    "                    'desc',\n",
    "                    'url']\n",
    "                    \n",
    "#                     'issue_d',\n",
    "#                     'last_credit_pull_d',\n",
    "#                     'last_pymnt_amnt',\n",
    "#                     'last_pymnt_d',\n",
    "#                     'member_id',\n",
    "#                     'next_pymnt_d',\n",
    "#                     'policy_code',\n",
    "#                     'revol_bal',\n",
    "#                     'revol_bal_joint',\n",
    "#                     'revol_util',\n",
    "#                     'title',\n",
    "#                     'total_pymnt',\n",
    "#                     'total_pymnt_inv',\n",
    "#                     'total_rec_int',\n",
    "#                     'total_rec_late_fee',\n",
    "#                     'total_rec_prncp',\n",
    "#                     'url']\n",
    "for f in featuresToRemove:\n",
    "    df.drop(f, axis = 1, inplace = True, errors='ignore')\n",
    "display(df.head())"
   ]
  },
  {
   "cell_type": "markdown",
   "metadata": {},
   "source": [
    "### 3. Removal and treatment of string variables"
   ]
  },
  {
   "cell_type": "code",
   "execution_count": 59,
   "metadata": {
    "collapsed": false
   },
   "outputs": [
    {
     "name": "stdout",
     "output_type": "stream",
     "text": [
      "Cleaning up numeric data...\n",
      "Applying one hot encoding...\n",
      "Cleaning up date data...\n",
      "The new shape is now (578331, 191)\n"
     ]
    }
   ],
   "source": [
    "df_string = df.select_dtypes(exclude=[np.number])\n",
    "# print(df_string.shape)\n",
    "pd.set_option('display.max_columns', 30)\n",
    "# display(df_string.head(1))\n",
    "\n",
    "print(\"Cleaning up numeric data...\")\n",
    "#### Converts some features to numeric\n",
    "def convertToNumeric(dataframe, list_of_attributes):\n",
    "    for f in list_of_attributes:\n",
    "        dataframe[f].replace(regex = True, inplace=True, to_replace=r'[^\\d.]+', value = r'')\n",
    "        dataframe[f] = pd.to_numeric(dataframe[f], errors='ignore')\n",
    "\n",
    "features_to_convert_to_numeric = ['term', \n",
    "                                  #'zip_code', \n",
    "                                  'revol_util', \n",
    "                                  #'int_rate'\n",
    "                                 ]\n",
    "convertToNumeric(df, features_to_convert_to_numeric)\n",
    "\n",
    "\n",
    "#### Drops pure string text features\n",
    "# df.drop(['emp_title', 'url', 'desc', 'title'], axis = 1, inplace = True)\n",
    "# df_string = df.select_dtypes(exclude=[np.number])\n",
    "\n",
    "print(\"Applying one hot encoding...\")\n",
    "#### Applies one-hot-encoding to categorical variables\n",
    "def oneHotEncoding(dataframe, columnsToEncode):\n",
    "    new_dummies = []\n",
    "    for feature in columnsToEncode:\n",
    "        # creates dummies\n",
    "        dummies = pd.get_dummies(dataframe[feature])\n",
    "        for v in dummies.columns.values:\n",
    "            new_dummies.append(v)\n",
    "        # drops the feature\n",
    "        dataframe.drop(feature, axis = 1, inplace = True)\n",
    "        # appends n-1 features (the last is not necessary)\n",
    "        dummies.drop(dummies.columns[len(dummies.columns)-1], axis = 1, inplace=True)\n",
    "        dataframe = dataframe.join(dummies)\n",
    "    return dataframe, new_dummies\n",
    "\n",
    "# for f in df_string.columns.values:\n",
    "#     display(df[f].value_counts())\n",
    "\n",
    "categorical_features = ['grade', \n",
    "#                         'sub_grade', \n",
    "                        'emp_length', \n",
    "                        'home_ownership', \n",
    "                        'verification_status', \n",
    "                        'pymnt_plan', \n",
    "                        'purpose', \n",
    "                        'addr_state', \n",
    "                        'initial_list_status', \n",
    "                        'application_type']\n",
    "df, new_dummies = oneHotEncoding(df, categorical_features)\n",
    "\n",
    "print(\"Cleaning up date data...\")\n",
    "#### TREATS DATE COLUMNS\n",
    "from datetime import datetime\n",
    "def separateDates(dataframe, columns):\n",
    "    for f in columns:\n",
    "        dataframe[f] = pd.to_datetime(dataframe[f], format='%b-%Y')\n",
    "        year = dataframe[f].apply(lambda x: x.strftime('%Y') if not pd.isnull(x) else '')\n",
    "        month = dataframe[f].apply(lambda x: x.strftime('%m') if not pd.isnull(x) else '')    \n",
    "#         display(year)\n",
    "#         display(month)\n",
    "        dataframe.drop(f, axis = 1, inplace = True)\n",
    "        df[(f + '_month')] = month\n",
    "        df[(f + '_year')] = year\n",
    "        df[(f + '_month')] = pd.to_numeric(df[(f + '_month')])\n",
    "        df[(f + '_year')] = pd.to_numeric(df[(f + '_year')])        \n",
    "    return df\n",
    "\n",
    "date_columns = ['issue_d', \n",
    "                'earliest_cr_line', \n",
    "                #'last_pymnt_d', \n",
    "                'next_pymnt_d', \n",
    "                'last_credit_pull_d']\n",
    "# all of these dates are in the mmm-YYYY format\n",
    "# and we wish to break them down into two separate columns: mm and YYYY\n",
    "df = separateDates(df, date_columns)\n",
    "\n",
    "print(\"The new shape is now {}\".format(df.shape))\n",
    "# display(df.head(1))\n",
    "# print(new_dummies)"
   ]
  },
  {
   "cell_type": "markdown",
   "metadata": {},
   "source": [
    "### 4. Removal of instances (loan requests) with many missing values"
   ]
  },
  {
   "cell_type": "code",
   "execution_count": 60,
   "metadata": {
    "collapsed": false
   },
   "outputs": [
    {
     "data": {
      "text/plain": [
       "(578331, 191)"
      ]
     },
     "metadata": {},
     "output_type": "display_data"
    }
   ],
   "source": [
    "#### Getting rid of instances with too many missing values (above 90%)\n",
    "df.dropna(thresh = 0.5 * df.shape[1], axis = 0, inplace = True)\n",
    "display(df.shape)"
   ]
  },
  {
   "cell_type": "markdown",
   "metadata": {},
   "source": [
    "### 5. Removal of features (attributes) with many missing values"
   ]
  },
  {
   "cell_type": "code",
   "execution_count": 61,
   "metadata": {
    "collapsed": false
   },
   "outputs": [
    {
     "data": {
      "text/plain": [
       "(578331, 153)"
      ]
     },
     "metadata": {},
     "output_type": "display_data"
    }
   ],
   "source": [
    "#### Removes all features with more than 70% of the values missing\n",
    "df.dropna(thresh = 0.5 * df.shape[0], axis = 1, inplace = True)\n",
    "display(df.shape)"
   ]
  },
  {
   "cell_type": "markdown",
   "metadata": {},
   "source": [
    "### 6. Removal of variables of low variability (below 25%)"
   ]
  },
  {
   "cell_type": "code",
   "execution_count": 62,
   "metadata": {
    "collapsed": false
   },
   "outputs": [
    {
     "name": "stdout",
     "output_type": "stream",
     "text": [
      "term has a variability of 0.23898252039057222\n",
      "delinq_2yrs has a variability of 0.18065606028381676\n",
      "pub_rec has a variability of 0.15178677954320274\n",
      "collections_12_mths_ex_med has a variability of 0.011065669447926973\n",
      "policy_code has a variability of 0.0\n",
      "acc_now_delinq has a variability of 0.004236328331007622\n",
      "tot_coll_amt has a variability of 0.13598230628431973\n",
      "chargeoff_within_12_mths has a variability of 0.007214560546452864\n",
      "delinq_amnt has a variability of 0.0031279665105277132\n",
      "num_accts_ever_120_pd has a variability of 0.22768339043506824\n",
      "num_tl_120dpd_2m has a variability of 0.0007747292986883814\n",
      "num_tl_30dpd has a variability of 0.0031151734171868117\n",
      "num_tl_90g_dpd_24m has a variability of 0.05583650130629991\n",
      "pub_rec_bankruptcies has a variability of 0.11668634464037786\n",
      "tax_liens has a variability of 0.02426109992875569\n",
      "(578331, 138)\n"
     ]
    }
   ],
   "source": [
    "toRemove = []\n",
    "for attribute in df.columns.values:\n",
    "#     if df_training[attribute].dtype == object and attribute != 'Credit-Application-Result':\n",
    "    if attribute != 'loan_status' and attribute not in new_dummies:\n",
    "        count = pd.Series.value_counts(df[attribute])\n",
    "        maxCount = np.max(count)\n",
    "        variability = 1.0 - (float(maxCount) / count.sum())\n",
    "        if variability < .25:\n",
    "            print(\"{} has a variability of {}\".format(attribute, variability))            \n",
    "            toRemove.append(attribute)\n",
    "            \n",
    "            \n",
    "for f in toRemove:\n",
    "    df.drop(f, axis = 1, inplace = True)\n",
    "print(df.shape)"
   ]
  },
  {
   "cell_type": "markdown",
   "metadata": {},
   "source": [
    "### 8. Missing values imputation"
   ]
  },
  {
   "cell_type": "code",
   "execution_count": 63,
   "metadata": {
    "collapsed": false
   },
   "outputs": [
    {
     "name": "stdout",
     "output_type": "stream",
     "text": [
      "(578331, 138)\n"
     ]
    }
   ],
   "source": [
    "for f in df.columns.values:\n",
    "    if df[f].dtype == np.float64 or df[f].dtype == np.int64:\n",
    "        df[f].fillna(df[f].median(),inplace = True)\n",
    "    else:\n",
    "        df[f].fillna(df[f].value_counts().index[0], inplace = True)\n",
    "print (df.shape)\n",
    "# display(df.isnull().sum() / df.shape[0])\n",
    "# display(df.head())"
   ]
  },
  {
   "cell_type": "markdown",
   "metadata": {},
   "source": [
    "#### ATTEMPT: CHI SQUARE FS AND ELIMINATION BASED ON P-VALS"
   ]
  },
  {
   "cell_type": "code",
   "execution_count": 64,
   "metadata": {
    "collapsed": false
   },
   "outputs": [],
   "source": [
    "# from sklearn.feature_selection import chi2\n",
    "\n",
    "# display(X.head(5))\n",
    "\n",
    "# df_string = X.select_dtypes(exclude=[np.number])\n",
    "# display(df_string)\n",
    "\n",
    "# display(X.dtypes)\n",
    "df['dti'] = df['dti'].replace(-1,0)\n",
    "X = df.drop('loan_status', axis = 1)\n",
    "y = df['loan_status']\n",
    "\n",
    "\n",
    "# print(sum(n < 0 for n in X.values.flatten()))\n",
    "# scores, pvals = chi2(X, y)"
   ]
  },
  {
   "cell_type": "markdown",
   "metadata": {},
   "source": [
    "## Saves this final DF to a csv file"
   ]
  },
  {
   "cell_type": "code",
   "execution_count": 65,
   "metadata": {
    "collapsed": true
   },
   "outputs": [],
   "source": [
    "df.to_csv(\"./p2p_lendingclub_clean.csv\", index = False)"
   ]
  },
  {
   "cell_type": "markdown",
   "metadata": {},
   "source": [
    "# OTHER STUFF"
   ]
  },
  {
   "cell_type": "markdown",
   "metadata": {},
   "source": [
    "#### Converting n/a into NaNs and NaNs into 0s"
   ]
  },
  {
   "cell_type": "code",
   "execution_count": 28,
   "metadata": {
    "collapsed": true
   },
   "outputs": [],
   "source": [
    "df.replace('n/a', np.nan, inplace = True)\n",
    "df.replace(np.nan, 0.0, inplace = True)"
   ]
  },
  {
   "cell_type": "markdown",
   "metadata": {},
   "source": [
    "#### Dropping irrelevant of features that would strongly bias our models"
   ]
  },
  {
   "cell_type": "markdown",
   "metadata": {},
   "source": [
    "#### Checking data types"
   ]
  },
  {
   "cell_type": "code",
   "execution_count": null,
   "metadata": {
    "collapsed": false
   },
   "outputs": [],
   "source": [
    "# display(df.dtypes)"
   ]
  },
  {
   "cell_type": "markdown",
   "metadata": {},
   "source": [
    "#### Checking how many missing values we have per feature"
   ]
  },
  {
   "cell_type": "code",
   "execution_count": null,
   "metadata": {
    "collapsed": false
   },
   "outputs": [],
   "source": [
    "# display(df.isnull().sum() / df.shape[0])"
   ]
  },
  {
   "cell_type": "markdown",
   "metadata": {},
   "source": [
    "#### Getting rid of non-numeric data"
   ]
  },
  {
   "cell_type": "code",
   "execution_count": null,
   "metadata": {
    "collapsed": false
   },
   "outputs": [],
   "source": [
    "# df_num = df.select_dtypes(include=[np.number])\n",
    "# display(df_num.shape)\n",
    "# display(df_num)"
   ]
  },
  {
   "cell_type": "markdown",
   "metadata": {},
   "source": [
    "#### Checking the correlation between features"
   ]
  },
  {
   "cell_type": "code",
   "execution_count": 27,
   "metadata": {
    "collapsed": false
   },
   "outputs": [
    {
     "data": {
      "text/html": [
       "<div>\n",
       "<table border=\"1\" class=\"dataframe\">\n",
       "  <thead>\n",
       "    <tr style=\"text-align: right;\">\n",
       "      <th></th>\n",
       "      <th>loan_amnt</th>\n",
       "      <th>installment</th>\n",
       "      <th>annual_inc</th>\n",
       "      <th>dti</th>\n",
       "      <th>inq_last_6mths</th>\n",
       "      <th>open_acc</th>\n",
       "      <th>revol_bal</th>\n",
       "      <th>revol_util</th>\n",
       "      <th>total_acc</th>\n",
       "      <th>last_fico_range_high</th>\n",
       "      <th>last_fico_range_low</th>\n",
       "      <th>tot_cur_bal</th>\n",
       "      <th>total_rev_hi_lim</th>\n",
       "      <th>acc_open_past_24mths</th>\n",
       "      <th>avg_cur_bal</th>\n",
       "      <th>...</th>\n",
       "      <th>PA</th>\n",
       "      <th>RI</th>\n",
       "      <th>SC</th>\n",
       "      <th>SD</th>\n",
       "      <th>TN</th>\n",
       "      <th>TX</th>\n",
       "      <th>UT</th>\n",
       "      <th>VA</th>\n",
       "      <th>VT</th>\n",
       "      <th>WA</th>\n",
       "      <th>WI</th>\n",
       "      <th>WV</th>\n",
       "      <th>f</th>\n",
       "      <th>DIRECT_PAY</th>\n",
       "      <th>INDIVIDUAL</th>\n",
       "    </tr>\n",
       "  </thead>\n",
       "  <tbody>\n",
       "    <tr>\n",
       "      <th>loan_amnt</th>\n",
       "      <td>1.000000</td>\n",
       "      <td>0.953794</td>\n",
       "      <td>0.343733</td>\n",
       "      <td>0.010949</td>\n",
       "      <td>0.010189</td>\n",
       "      <td>0.196406</td>\n",
       "      <td>0.327251</td>\n",
       "      <td>0.103727</td>\n",
       "      <td>0.221441</td>\n",
       "      <td>0.053215</td>\n",
       "      <td>0.048063</td>\n",
       "      <td>0.312888</td>\n",
       "      <td>0.311928</td>\n",
       "      <td>0.021780</td>\n",
       "      <td>0.231148</td>\n",
       "      <td>...</td>\n",
       "      <td>0.007766</td>\n",
       "      <td>0.006231</td>\n",
       "      <td>0.002857</td>\n",
       "      <td>0.004520</td>\n",
       "      <td>0.000809</td>\n",
       "      <td>0.030464</td>\n",
       "      <td>0.000409</td>\n",
       "      <td>0.016641</td>\n",
       "      <td>0.005981</td>\n",
       "      <td>0.003217</td>\n",
       "      <td>0.008672</td>\n",
       "      <td>0.003023</td>\n",
       "      <td>0.074834</td>\n",
       "      <td>0.003844</td>\n",
       "      <td>0.020541</td>\n",
       "    </tr>\n",
       "    <tr>\n",
       "      <th>installment</th>\n",
       "      <td>0.953794</td>\n",
       "      <td>1.000000</td>\n",
       "      <td>0.336469</td>\n",
       "      <td>0.010489</td>\n",
       "      <td>0.011859</td>\n",
       "      <td>0.186511</td>\n",
       "      <td>0.314858</td>\n",
       "      <td>0.125522</td>\n",
       "      <td>0.199643</td>\n",
       "      <td>0.045435</td>\n",
       "      <td>0.042233</td>\n",
       "      <td>0.285961</td>\n",
       "      <td>0.288504</td>\n",
       "      <td>0.028005</td>\n",
       "      <td>0.209268</td>\n",
       "      <td>...</td>\n",
       "      <td>0.012030</td>\n",
       "      <td>0.006441</td>\n",
       "      <td>0.003623</td>\n",
       "      <td>0.003863</td>\n",
       "      <td>0.001332</td>\n",
       "      <td>0.032988</td>\n",
       "      <td>0.001816</td>\n",
       "      <td>0.013516</td>\n",
       "      <td>0.006070</td>\n",
       "      <td>0.004421</td>\n",
       "      <td>0.009856</td>\n",
       "      <td>0.005390</td>\n",
       "      <td>0.036317</td>\n",
       "      <td>0.000638</td>\n",
       "      <td>0.021357</td>\n",
       "    </tr>\n",
       "    <tr>\n",
       "      <th>annual_inc</th>\n",
       "      <td>0.343733</td>\n",
       "      <td>0.336469</td>\n",
       "      <td>1.000000</td>\n",
       "      <td>0.056978</td>\n",
       "      <td>0.043682</td>\n",
       "      <td>0.139031</td>\n",
       "      <td>0.304617</td>\n",
       "      <td>0.030636</td>\n",
       "      <td>0.195811</td>\n",
       "      <td>0.080016</td>\n",
       "      <td>0.070225</td>\n",
       "      <td>0.414419</td>\n",
       "      <td>0.281010</td>\n",
       "      <td>0.048793</td>\n",
       "      <td>0.332267</td>\n",
       "      <td>...</td>\n",
       "      <td>0.013111</td>\n",
       "      <td>0.003998</td>\n",
       "      <td>0.006508</td>\n",
       "      <td>0.010460</td>\n",
       "      <td>0.011977</td>\n",
       "      <td>0.026226</td>\n",
       "      <td>0.003621</td>\n",
       "      <td>0.015720</td>\n",
       "      <td>0.008070</td>\n",
       "      <td>0.001058</td>\n",
       "      <td>0.016676</td>\n",
       "      <td>0.009076</td>\n",
       "      <td>0.044031</td>\n",
       "      <td>0.009962</td>\n",
       "      <td>0.013163</td>\n",
       "    </tr>\n",
       "    <tr>\n",
       "      <th>dti</th>\n",
       "      <td>0.010949</td>\n",
       "      <td>0.010489</td>\n",
       "      <td>0.056978</td>\n",
       "      <td>1.000000</td>\n",
       "      <td>0.001285</td>\n",
       "      <td>0.089071</td>\n",
       "      <td>0.040811</td>\n",
       "      <td>0.057286</td>\n",
       "      <td>0.066832</td>\n",
       "      <td>0.036943</td>\n",
       "      <td>0.024531</td>\n",
       "      <td>0.000569</td>\n",
       "      <td>0.020023</td>\n",
       "      <td>0.053815</td>\n",
       "      <td>0.032506</td>\n",
       "      <td>...</td>\n",
       "      <td>0.004643</td>\n",
       "      <td>0.001547</td>\n",
       "      <td>0.003813</td>\n",
       "      <td>0.003893</td>\n",
       "      <td>0.007383</td>\n",
       "      <td>0.012320</td>\n",
       "      <td>0.001743</td>\n",
       "      <td>0.000596</td>\n",
       "      <td>0.002158</td>\n",
       "      <td>0.001390</td>\n",
       "      <td>0.002209</td>\n",
       "      <td>0.004066</td>\n",
       "      <td>0.016632</td>\n",
       "      <td>0.028864</td>\n",
       "      <td>0.080167</td>\n",
       "    </tr>\n",
       "    <tr>\n",
       "      <th>inq_last_6mths</th>\n",
       "      <td>0.010189</td>\n",
       "      <td>0.011859</td>\n",
       "      <td>0.043682</td>\n",
       "      <td>0.001285</td>\n",
       "      <td>1.000000</td>\n",
       "      <td>0.120015</td>\n",
       "      <td>0.013319</td>\n",
       "      <td>0.082841</td>\n",
       "      <td>0.140213</td>\n",
       "      <td>0.091266</td>\n",
       "      <td>0.069662</td>\n",
       "      <td>0.030549</td>\n",
       "      <td>0.010114</td>\n",
       "      <td>0.221715</td>\n",
       "      <td>0.014110</td>\n",
       "      <td>...</td>\n",
       "      <td>0.021690</td>\n",
       "      <td>0.002211</td>\n",
       "      <td>0.010879</td>\n",
       "      <td>0.000132</td>\n",
       "      <td>0.003208</td>\n",
       "      <td>0.000820</td>\n",
       "      <td>0.007760</td>\n",
       "      <td>0.013832</td>\n",
       "      <td>0.004206</td>\n",
       "      <td>0.004337</td>\n",
       "      <td>0.022969</td>\n",
       "      <td>0.000136</td>\n",
       "      <td>0.052661</td>\n",
       "      <td>0.001832</td>\n",
       "      <td>0.005898</td>\n",
       "    </tr>\n",
       "  </tbody>\n",
       "</table>\n",
       "<p>5 rows × 130 columns</p>\n",
       "</div>"
      ],
      "text/plain": [
       "                loan_amnt  installment  annual_inc       dti  inq_last_6mths  \\\n",
       "loan_amnt        1.000000     0.953794    0.343733  0.010949        0.010189   \n",
       "installment      0.953794     1.000000    0.336469  0.010489        0.011859   \n",
       "annual_inc       0.343733     0.336469    1.000000  0.056978        0.043682   \n",
       "dti              0.010949     0.010489    0.056978  1.000000        0.001285   \n",
       "inq_last_6mths   0.010189     0.011859    0.043682  0.001285        1.000000   \n",
       "\n",
       "                open_acc  revol_bal  revol_util  total_acc  \\\n",
       "loan_amnt       0.196406   0.327251    0.103727   0.221441   \n",
       "installment     0.186511   0.314858    0.125522   0.199643   \n",
       "annual_inc      0.139031   0.304617    0.030636   0.195811   \n",
       "dti             0.089071   0.040811    0.057286   0.066832   \n",
       "inq_last_6mths  0.120015   0.013319    0.082841   0.140213   \n",
       "\n",
       "                last_fico_range_high  last_fico_range_low  tot_cur_bal  \\\n",
       "loan_amnt                   0.053215             0.048063     0.312888   \n",
       "installment                 0.045435             0.042233     0.285961   \n",
       "annual_inc                  0.080016             0.070225     0.414419   \n",
       "dti                         0.036943             0.024531     0.000569   \n",
       "inq_last_6mths              0.091266             0.069662     0.030549   \n",
       "\n",
       "                total_rev_hi_lim  acc_open_past_24mths  avg_cur_bal  \\\n",
       "loan_amnt               0.311928              0.021780     0.231148   \n",
       "installment             0.288504              0.028005     0.209268   \n",
       "annual_inc              0.281010              0.048793     0.332267   \n",
       "dti                     0.020023              0.053815     0.032506   \n",
       "inq_last_6mths          0.010114              0.221715     0.014110   \n",
       "\n",
       "                   ...            PA        RI        SC        SD        TN  \\\n",
       "loan_amnt          ...      0.007766  0.006231  0.002857  0.004520  0.000809   \n",
       "installment        ...      0.012030  0.006441  0.003623  0.003863  0.001332   \n",
       "annual_inc         ...      0.013111  0.003998  0.006508  0.010460  0.011977   \n",
       "dti                ...      0.004643  0.001547  0.003813  0.003893  0.007383   \n",
       "inq_last_6mths     ...      0.021690  0.002211  0.010879  0.000132  0.003208   \n",
       "\n",
       "                      TX        UT        VA        VT        WA        WI  \\\n",
       "loan_amnt       0.030464  0.000409  0.016641  0.005981  0.003217  0.008672   \n",
       "installment     0.032988  0.001816  0.013516  0.006070  0.004421  0.009856   \n",
       "annual_inc      0.026226  0.003621  0.015720  0.008070  0.001058  0.016676   \n",
       "dti             0.012320  0.001743  0.000596  0.002158  0.001390  0.002209   \n",
       "inq_last_6mths  0.000820  0.007760  0.013832  0.004206  0.004337  0.022969   \n",
       "\n",
       "                      WV         f  DIRECT_PAY  INDIVIDUAL  \n",
       "loan_amnt       0.003023  0.074834    0.003844    0.020541  \n",
       "installment     0.005390  0.036317    0.000638    0.021357  \n",
       "annual_inc      0.009076  0.044031    0.009962    0.013163  \n",
       "dti             0.004066  0.016632    0.028864    0.080167  \n",
       "inq_last_6mths  0.000136  0.052661    0.001832    0.005898  \n",
       "\n",
       "[5 rows x 130 columns]"
      ]
     },
     "metadata": {},
     "output_type": "display_data"
    }
   ],
   "source": [
    "df_correlation = df.corr().abs()\n",
    "display(df_correlation.head(5))\n",
    "#display(df_correlation)\n",
    "\n",
    "\n",
    "# import seaborn as sns\n",
    "# sns.heatmap(df_correlation,\n",
    "#             xticklabels=df_correlation.columns.values,\n",
    "#             yticklabels=df_correlation.columns.values)"
   ]
  },
  {
   "cell_type": "markdown",
   "metadata": {},
   "source": [
    "#### Correlation between features and the target"
   ]
  },
  {
   "cell_type": "code",
   "execution_count": null,
   "metadata": {
    "collapsed": false
   },
   "outputs": [],
   "source": [
    "X = df.drop('loan_status', axis = 1)\n",
    "y = df['loan_status']\n",
    "\n",
    "from scipy.stats import spearmanr\n",
    "\n",
    "print(\"--- SPEARMAN ---\")\n",
    "for f in X.columns.values:\n",
    "    corr = spearmanr(X[f], y)\n",
    "    print(\"{} w/ {} =\".format())"
   ]
  },
  {
   "cell_type": "markdown",
   "metadata": {
    "collapsed": true
   },
   "source": [
    "#### Runs a decision tree to see what's going on"
   ]
  },
  {
   "cell_type": "code",
   "execution_count": null,
   "metadata": {
    "collapsed": false
   },
   "outputs": [],
   "source": [
    "# from sklearn import tree\n",
    "# from sklearn.model_selection import train_test_split\n",
    "\n",
    "# X = df_num\n",
    "# y = df['loan_status']\n",
    "\n",
    "# xTrain, xTest, yTrain, yTest = train_test_split(X, y, test_size=0.33, random_state=42)\n",
    "\n",
    "# clf = tree.DecisionTreeClassifier()\n",
    "# clf.fit(xTrain, yTrain)\n"
   ]
  },
  {
   "cell_type": "code",
   "execution_count": null,
   "metadata": {
    "collapsed": false
   },
   "outputs": [],
   "source": [
    "# df.groupby('loan_status').count()"
   ]
  },
  {
   "cell_type": "code",
   "execution_count": null,
   "metadata": {
    "collapsed": false
   },
   "outputs": [],
   "source": [
    "# from IPython.display import Image  \n",
    "# import pydotplus \n",
    "# dot_data = tree.export_graphviz(clf, out_file=None, \n",
    "#                          feature_names=X.columns.values,  \n",
    "#                          class_names=y,  \n",
    "#                          filled=True, rounded=True,  \n",
    "#                          special_characters=True)  \n",
    "# graph = pydotplus.graph_from_dot_data(dot_data)  \n",
    "# Image(graph.create_png())"
   ]
  },
  {
   "cell_type": "code",
   "execution_count": null,
   "metadata": {
    "collapsed": true
   },
   "outputs": [],
   "source": []
  }
 ],
 "metadata": {
  "kernelspec": {
   "display_name": "Python 3",
   "language": "python",
   "name": "python3"
  },
  "language_info": {
   "codemirror_mode": {
    "name": "ipython",
    "version": 3
   },
   "file_extension": ".py",
   "mimetype": "text/x-python",
   "name": "python",
   "nbconvert_exporter": "python",
   "pygments_lexer": "ipython3",
   "version": "3.5.2"
  }
 },
 "nbformat": 4,
 "nbformat_minor": 2
}
