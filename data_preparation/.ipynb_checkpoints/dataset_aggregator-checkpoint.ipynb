{
 "cells": [
  {
   "cell_type": "markdown",
   "metadata": {},
   "source": [
    "## P2P Lending Dataset Preparation"
   ]
  },
  {
   "cell_type": "markdown",
   "metadata": {},
   "source": [
    "This script has the goal of merging the data made available from [Lending Club](https://www.lendingclub.com) between 2007 and 2016.\n",
    "In this work, we tackle only \"Charged Off\" and \"Fully Paid\" loans.\n",
    "The main steps taken to prepare the dataset are the following:\n",
    "\n",
    "1. Data load and header sanity check\n",
    "2. Data concatenation\n",
    "3. Removal and treatment of string variables\n",
    "4. Removal of instances (loan requests) with many missing values\n",
    "5. Removal of features (attributes) with many missing values\n",
    "6. Removal of variables of low variability\n",
    "7. Removal of features to avoid data leakage\n",
    "8. Missing values imputation"
   ]
  },
  {
   "cell_type": "markdown",
   "metadata": {},
   "source": [
    "### 1. Data load and header sanity check"
   ]
  },
  {
   "cell_type": "code",
   "execution_count": 1,
   "metadata": {
    "collapsed": true
   },
   "outputs": [],
   "source": [
    "import pandas as pd\n",
    "import numpy as np\n",
    "from IPython.display import display\n",
    "import matplotlib.pyplot as plt\n",
    "%matplotlib inline"
   ]
  },
  {
   "cell_type": "code",
   "execution_count": 2,
   "metadata": {
    "collapsed": false
   },
   "outputs": [],
   "source": [
    "df2007to2011 = pd.read_csv(\"./LoanStats3a_securev1.csv\", low_memory=False, skiprows=[0])\n",
    "df2012to2013 = pd.read_csv(\"./LoanStats3b_securev1.csv\", low_memory=False, skiprows=[0])\n",
    "df2014       = pd.read_csv(\"./LoanStats3c_securev1.csv\", low_memory=False, skiprows=[0])\n",
    "df2015       = pd.read_csv(\"./LoanStats3d_securev1.csv\", low_memory=False, skiprows=[0])\n",
    "df2016Q1     = pd.read_csv(\"./LoanStats_securev1_2016Q1.csv\", low_memory=False, skiprows=[0])\n",
    "df2016Q2     = pd.read_csv(\"./LoanStats_securev1_2016Q2.csv\", low_memory=False, skiprows=[0])\n",
    "df2016Q3     = pd.read_csv(\"./LoanStats_securev1_2016Q3.csv\", low_memory=False, skiprows=[0])\n",
    "df2016Q4     = pd.read_csv(\"./LoanStats_securev1_2016Q4.csv\", low_memory=False, skiprows=[0])\n",
    "\n",
    "all_dfs = [df2007to2011, df2012to2013, df2014, df2015, df2016Q1, df2016Q2, df2016Q3, df2016Q4]"
   ]
  },
  {
   "cell_type": "markdown",
   "metadata": {},
   "source": [
    "#### Checking out how the data is shaped and if they match"
   ]
  },
  {
   "cell_type": "code",
   "execution_count": 3,
   "metadata": {
    "collapsed": false
   },
   "outputs": [],
   "source": [
    "columnsFirstDF = list(all_dfs[0].columns.values)\n",
    "error = False\n",
    "for df in all_dfs:\n",
    "    if set(df.columns.values) != set(columnsFirstDF):\n",
    "        error = True\n",
    "\n",
    "if error:\n",
    "    print(\"Subfiles are not maching!\")"
   ]
  },
  {
   "cell_type": "markdown",
   "metadata": {
    "collapsed": false
   },
   "source": [
    "### 2. Data concatenation"
   ]
  },
  {
   "cell_type": "code",
   "execution_count": 4,
   "metadata": {
    "collapsed": false
   },
   "outputs": [
    {
     "name": "stdout",
     "output_type": "stream",
     "text": [
      "(1321864, 128)\n"
     ]
    }
   ],
   "source": [
    "df = pd.concat(all_dfs)\n",
    "df.set_index('id', inplace = True)\n",
    "df.reset_index(inplace = True)\n",
    "df.sort_index(inplace = True)\n",
    "print(df.shape)"
   ]
  },
  {
   "cell_type": "markdown",
   "metadata": {},
   "source": [
    "#### Filters dataset to contain only \"Charged Off\" and \"Fully Paid\" loans"
   ]
  },
  {
   "cell_type": "code",
   "execution_count": 5,
   "metadata": {
    "collapsed": false
   },
   "outputs": [
    {
     "name": "stdout",
     "output_type": "stream",
     "text": [
      "(578331, 128)\n"
     ]
    }
   ],
   "source": [
    "df = df.loc[(df.loan_status == \"Charged Off\") | (df.loan_status == \"Fully Paid\")]\n",
    "print(df.shape)"
   ]
  },
  {
   "cell_type": "markdown",
   "metadata": {},
   "source": [
    "### 3. Removal and treatment of string variables"
   ]
  },
  {
   "cell_type": "code",
   "execution_count": 6,
   "metadata": {
    "collapsed": false
   },
   "outputs": [
    {
     "name": "stdout",
     "output_type": "stream",
     "text": [
      "(578331, 26)\n",
      "(578331, 243)\n"
     ]
    }
   ],
   "source": [
    "df_string = df.select_dtypes(exclude=[np.number])\n",
    "print(df_string.shape)\n",
    "pd.set_option('display.max_columns', 30)\n",
    "# display(df_string.head(1))\n",
    "\n",
    "\n",
    "#### Converts some features to numeric\n",
    "def convertToNumeric(dataframe, list_of_attributes):\n",
    "    for f in list_of_attributes:\n",
    "        dataframe[f].replace(regex = True, inplace=True, to_replace=r'[^\\d.]+', value = r'')\n",
    "        dataframe[f] = pd.to_numeric(dataframe[f], errors='ignore')\n",
    "\n",
    "features_to_convert_to_numeric = ['term', 'zip_code', 'revol_util', 'int_rate']\n",
    "convertToNumeric(df, features_to_convert_to_numeric)\n",
    "\n",
    "\n",
    "#### Drops pure string text features\n",
    "df.drop(['emp_title', 'url', 'desc', 'title'], axis = 1, inplace = True)\n",
    "df_string = df.select_dtypes(exclude=[np.number])\n",
    "\n",
    "\n",
    "#### Applies one-hot-encoding to categorical variables\n",
    "def oneHotEncoding(dataframe, columnsToEncode):\n",
    "    new_dummies = []\n",
    "    for feature in columnsToEncode:\n",
    "        # creates dummies\n",
    "        dummies = pd.get_dummies(dataframe[feature])\n",
    "        for v in dummies.columns.values:\n",
    "            new_dummies.append(v)\n",
    "        # drops the feature\n",
    "        dataframe.drop(feature, axis = 1, inplace = True)\n",
    "        # appends n-1 features (the last is not necessary)\n",
    "        dummies.drop(dummies.columns[len(dummies.columns)-1], axis = 1, inplace=True)\n",
    "        dataframe = dataframe.join(dummies)\n",
    "    return dataframe, new_dummies\n",
    "\n",
    "# for f in df_string.columns.values:\n",
    "#     display(df[f].value_counts())\n",
    "\n",
    "categorical_features = ['grade', 'sub_grade', 'emp_length', 'home_ownership', \n",
    "                        'verification_status', 'pymnt_plan', 'purpose', \n",
    "                        'addr_state', 'initial_list_status', 'application_type']\n",
    "df, new_dummies = oneHotEncoding(df, categorical_features)\n",
    "\n",
    "\n",
    "#### TREATS DATE COLUMNS\n",
    "from datetime import datetime\n",
    "def separateDates(dataframe, columns):\n",
    "    for f in columns:\n",
    "        dataframe[f] = pd.to_datetime(dataframe[f], format='%b-%Y')\n",
    "        year = dataframe[f].apply(lambda x: x.strftime('%Y') if not pd.isnull(x) else '')\n",
    "        month = dataframe[f].apply(lambda x: x.strftime('%m') if not pd.isnull(x) else '')    \n",
    "#         display(year)\n",
    "#         display(month)\n",
    "        dataframe.drop(f, axis = 1, inplace = True)\n",
    "        df[(f + '_month')] = month\n",
    "        df[(f + '_year')] = year\n",
    "    return df\n",
    "\n",
    "date_columns = ['issue_d', 'earliest_cr_line', 'last_pymnt_d', \n",
    "                'next_pymnt_d', 'last_credit_pull_d']\n",
    "# all of these dates are in the mmm-YYYY format\n",
    "# and we wish to break them down into two separate columns: mm and YYYY\n",
    "df = separateDates(df, date_columns)\n",
    "\n",
    "print(df.shape)\n",
    "# display(df.head(1))\n",
    "# print(new_dummies)"
   ]
  },
  {
   "cell_type": "markdown",
   "metadata": {},
   "source": [
    "### 4. Removal of instances (loan requests) with many missing values"
   ]
  },
  {
   "cell_type": "code",
   "execution_count": 7,
   "metadata": {
    "collapsed": false
   },
   "outputs": [
    {
     "data": {
      "text/plain": [
       "(578331, 243)"
      ]
     },
     "metadata": {},
     "output_type": "display_data"
    }
   ],
   "source": [
    "#### Getting rid of instances with too many missing values (above 90%)\n",
    "df.dropna(thresh = 0.1 * df.shape[1], axis = 0, inplace = True)\n",
    "display(df.shape)"
   ]
  },
  {
   "cell_type": "markdown",
   "metadata": {},
   "source": [
    "### 5. Removal of features (attributes) with many missing values"
   ]
  },
  {
   "cell_type": "code",
   "execution_count": 8,
   "metadata": {
    "collapsed": false
   },
   "outputs": [
    {
     "data": {
      "text/plain": [
       "(578331, 209)"
      ]
     },
     "metadata": {},
     "output_type": "display_data"
    }
   ],
   "source": [
    "#### Removes all features with more than 70% of the values missing\n",
    "df.dropna(thresh = 0.3 * df.shape[0], axis = 1, inplace = True)\n",
    "display(df.shape)"
   ]
  },
  {
   "cell_type": "markdown",
   "metadata": {},
   "source": [
    "### 6. Removal of variables of low variability (below 25%)"
   ]
  },
  {
   "cell_type": "code",
   "execution_count": 9,
   "metadata": {
    "collapsed": false
   },
   "outputs": [
    {
     "name": "stdout",
     "output_type": "stream",
     "text": [
      "term has a variability of 0.23898252039057222\n",
      "delinq_2yrs has a variability of 0.18065606028381676\n",
      "pub_rec has a variability of 0.15178677954320274\n",
      "out_prncp has a variability of 0.0\n",
      "out_prncp_inv has a variability of 0.0\n",
      "total_rec_late_fee has a variability of 0.02915631359895976\n",
      "recoveries has a variability of 0.1213595674449407\n",
      "collection_recovery_fee has a variability of 0.10549840835092705\n",
      "collections_12_mths_ex_med has a variability of 0.011065669447926973\n",
      "policy_code has a variability of 0.0\n",
      "acc_now_delinq has a variability of 0.004236328331007622\n",
      "tot_coll_amt has a variability of 0.13598230628431973\n",
      "chargeoff_within_12_mths has a variability of 0.007214560546452864\n",
      "delinq_amnt has a variability of 0.0031279665105277132\n",
      "num_accts_ever_120_pd has a variability of 0.22768339043506824\n",
      "num_tl_120dpd_2m has a variability of 0.0007747292986883814\n",
      "num_tl_30dpd has a variability of 0.0031151734171868117\n",
      "num_tl_90g_dpd_24m has a variability of 0.05583650130629991\n",
      "pub_rec_bankruptcies has a variability of 0.11668634464037786\n",
      "tax_liens has a variability of 0.02426109992875569\n",
      "next_pymnt_d_month has a variability of 0.0\n",
      "next_pymnt_d_year has a variability of 0.0\n",
      "(578331, 187)\n"
     ]
    }
   ],
   "source": [
    "toRemove = []\n",
    "for attribute in df.columns.values:\n",
    "#     if df_training[attribute].dtype == object and attribute != 'Credit-Application-Result':\n",
    "    if attribute != 'loan_status' and attribute not in new_dummies:\n",
    "        count = pd.Series.value_counts(df[attribute])\n",
    "        maxCount = np.max(count)\n",
    "        variability = 1.0 - (float(maxCount) / count.sum())\n",
    "        if variability < .25:\n",
    "            print(\"{} has a variability of {}\".format(attribute, variability))            \n",
    "            toRemove.append(attribute)\n",
    "            \n",
    "            \n",
    "for f in toRemove:\n",
    "    df.drop(f, axis = 1, inplace = True)\n",
    "print(df.shape)"
   ]
  },
  {
   "cell_type": "markdown",
   "metadata": {},
   "source": [
    "### 7. Removal of features to avoid data leakage"
   ]
  },
  {
   "cell_type": "code",
   "execution_count": 10,
   "metadata": {
    "collapsed": false
   },
   "outputs": [
    {
     "data": {
      "text/html": [
       "<div>\n",
       "<table border=\"1\" class=\"dataframe\">\n",
       "  <thead>\n",
       "    <tr style=\"text-align: right;\">\n",
       "      <th></th>\n",
       "      <th>loan_amnt</th>\n",
       "      <th>funded_amnt</th>\n",
       "      <th>funded_amnt_inv</th>\n",
       "      <th>int_rate</th>\n",
       "      <th>installment</th>\n",
       "      <th>annual_inc</th>\n",
       "      <th>loan_status</th>\n",
       "      <th>zip_code</th>\n",
       "      <th>dti</th>\n",
       "      <th>fico_range_low</th>\n",
       "      <th>fico_range_high</th>\n",
       "      <th>inq_last_6mths</th>\n",
       "      <th>mths_since_last_delinq</th>\n",
       "      <th>open_acc</th>\n",
       "      <th>revol_bal</th>\n",
       "      <th>...</th>\n",
       "      <th>VT</th>\n",
       "      <th>WA</th>\n",
       "      <th>WI</th>\n",
       "      <th>WV</th>\n",
       "      <th>f</th>\n",
       "      <th>DIRECT_PAY</th>\n",
       "      <th>INDIVIDUAL</th>\n",
       "      <th>issue_d_month</th>\n",
       "      <th>issue_d_year</th>\n",
       "      <th>earliest_cr_line_month</th>\n",
       "      <th>earliest_cr_line_year</th>\n",
       "      <th>last_pymnt_d_month</th>\n",
       "      <th>last_pymnt_d_year</th>\n",
       "      <th>last_credit_pull_d_month</th>\n",
       "      <th>last_credit_pull_d_year</th>\n",
       "    </tr>\n",
       "  </thead>\n",
       "  <tbody>\n",
       "    <tr>\n",
       "      <th>0</th>\n",
       "      <td>5000.0</td>\n",
       "      <td>5000.0</td>\n",
       "      <td>4975.0</td>\n",
       "      <td>10.65</td>\n",
       "      <td>162.87</td>\n",
       "      <td>24000.0</td>\n",
       "      <td>Fully Paid</td>\n",
       "      <td>860</td>\n",
       "      <td>27.65</td>\n",
       "      <td>735.0</td>\n",
       "      <td>739.0</td>\n",
       "      <td>1.0</td>\n",
       "      <td>NaN</td>\n",
       "      <td>3.0</td>\n",
       "      <td>13648.0</td>\n",
       "      <td>...</td>\n",
       "      <td>0</td>\n",
       "      <td>0</td>\n",
       "      <td>0</td>\n",
       "      <td>0</td>\n",
       "      <td>1</td>\n",
       "      <td>0</td>\n",
       "      <td>1</td>\n",
       "      <td>12</td>\n",
       "      <td>2011</td>\n",
       "      <td>01</td>\n",
       "      <td>1985</td>\n",
       "      <td>01</td>\n",
       "      <td>2015</td>\n",
       "      <td>04</td>\n",
       "      <td>2017</td>\n",
       "    </tr>\n",
       "    <tr>\n",
       "      <th>1</th>\n",
       "      <td>2500.0</td>\n",
       "      <td>2500.0</td>\n",
       "      <td>2500.0</td>\n",
       "      <td>15.27</td>\n",
       "      <td>59.83</td>\n",
       "      <td>30000.0</td>\n",
       "      <td>Charged Off</td>\n",
       "      <td>309</td>\n",
       "      <td>1.00</td>\n",
       "      <td>740.0</td>\n",
       "      <td>744.0</td>\n",
       "      <td>5.0</td>\n",
       "      <td>NaN</td>\n",
       "      <td>3.0</td>\n",
       "      <td>1687.0</td>\n",
       "      <td>...</td>\n",
       "      <td>0</td>\n",
       "      <td>0</td>\n",
       "      <td>0</td>\n",
       "      <td>0</td>\n",
       "      <td>1</td>\n",
       "      <td>0</td>\n",
       "      <td>1</td>\n",
       "      <td>12</td>\n",
       "      <td>2011</td>\n",
       "      <td>04</td>\n",
       "      <td>1999</td>\n",
       "      <td>04</td>\n",
       "      <td>2013</td>\n",
       "      <td>10</td>\n",
       "      <td>2016</td>\n",
       "    </tr>\n",
       "    <tr>\n",
       "      <th>2</th>\n",
       "      <td>2400.0</td>\n",
       "      <td>2400.0</td>\n",
       "      <td>2400.0</td>\n",
       "      <td>15.96</td>\n",
       "      <td>84.33</td>\n",
       "      <td>12252.0</td>\n",
       "      <td>Fully Paid</td>\n",
       "      <td>606</td>\n",
       "      <td>8.72</td>\n",
       "      <td>735.0</td>\n",
       "      <td>739.0</td>\n",
       "      <td>2.0</td>\n",
       "      <td>NaN</td>\n",
       "      <td>2.0</td>\n",
       "      <td>2956.0</td>\n",
       "      <td>...</td>\n",
       "      <td>0</td>\n",
       "      <td>0</td>\n",
       "      <td>0</td>\n",
       "      <td>0</td>\n",
       "      <td>1</td>\n",
       "      <td>0</td>\n",
       "      <td>1</td>\n",
       "      <td>12</td>\n",
       "      <td>2011</td>\n",
       "      <td>11</td>\n",
       "      <td>2001</td>\n",
       "      <td>06</td>\n",
       "      <td>2014</td>\n",
       "      <td>04</td>\n",
       "      <td>2017</td>\n",
       "    </tr>\n",
       "    <tr>\n",
       "      <th>3</th>\n",
       "      <td>10000.0</td>\n",
       "      <td>10000.0</td>\n",
       "      <td>10000.0</td>\n",
       "      <td>13.49</td>\n",
       "      <td>339.31</td>\n",
       "      <td>49200.0</td>\n",
       "      <td>Fully Paid</td>\n",
       "      <td>917</td>\n",
       "      <td>20.00</td>\n",
       "      <td>690.0</td>\n",
       "      <td>694.0</td>\n",
       "      <td>1.0</td>\n",
       "      <td>35.0</td>\n",
       "      <td>10.0</td>\n",
       "      <td>5598.0</td>\n",
       "      <td>...</td>\n",
       "      <td>0</td>\n",
       "      <td>0</td>\n",
       "      <td>0</td>\n",
       "      <td>0</td>\n",
       "      <td>1</td>\n",
       "      <td>0</td>\n",
       "      <td>1</td>\n",
       "      <td>12</td>\n",
       "      <td>2011</td>\n",
       "      <td>02</td>\n",
       "      <td>1996</td>\n",
       "      <td>01</td>\n",
       "      <td>2015</td>\n",
       "      <td>04</td>\n",
       "      <td>2016</td>\n",
       "    </tr>\n",
       "    <tr>\n",
       "      <th>4</th>\n",
       "      <td>3000.0</td>\n",
       "      <td>3000.0</td>\n",
       "      <td>3000.0</td>\n",
       "      <td>12.69</td>\n",
       "      <td>67.79</td>\n",
       "      <td>80000.0</td>\n",
       "      <td>Fully Paid</td>\n",
       "      <td>972</td>\n",
       "      <td>17.94</td>\n",
       "      <td>695.0</td>\n",
       "      <td>699.0</td>\n",
       "      <td>0.0</td>\n",
       "      <td>38.0</td>\n",
       "      <td>15.0</td>\n",
       "      <td>27783.0</td>\n",
       "      <td>...</td>\n",
       "      <td>0</td>\n",
       "      <td>0</td>\n",
       "      <td>0</td>\n",
       "      <td>0</td>\n",
       "      <td>1</td>\n",
       "      <td>0</td>\n",
       "      <td>1</td>\n",
       "      <td>12</td>\n",
       "      <td>2011</td>\n",
       "      <td>01</td>\n",
       "      <td>1996</td>\n",
       "      <td>01</td>\n",
       "      <td>2017</td>\n",
       "      <td>01</td>\n",
       "      <td>2017</td>\n",
       "    </tr>\n",
       "  </tbody>\n",
       "</table>\n",
       "<p>5 rows × 186 columns</p>\n",
       "</div>"
      ],
      "text/plain": [
       "   loan_amnt  funded_amnt  funded_amnt_inv  int_rate  installment  annual_inc  \\\n",
       "0     5000.0       5000.0           4975.0     10.65       162.87     24000.0   \n",
       "1     2500.0       2500.0           2500.0     15.27        59.83     30000.0   \n",
       "2     2400.0       2400.0           2400.0     15.96        84.33     12252.0   \n",
       "3    10000.0      10000.0          10000.0     13.49       339.31     49200.0   \n",
       "4     3000.0       3000.0           3000.0     12.69        67.79     80000.0   \n",
       "\n",
       "   loan_status  zip_code    dti  fico_range_low  fico_range_high  \\\n",
       "0   Fully Paid       860  27.65           735.0            739.0   \n",
       "1  Charged Off       309   1.00           740.0            744.0   \n",
       "2   Fully Paid       606   8.72           735.0            739.0   \n",
       "3   Fully Paid       917  20.00           690.0            694.0   \n",
       "4   Fully Paid       972  17.94           695.0            699.0   \n",
       "\n",
       "   inq_last_6mths  mths_since_last_delinq  open_acc  revol_bal  \\\n",
       "0             1.0                     NaN       3.0    13648.0   \n",
       "1             5.0                     NaN       3.0     1687.0   \n",
       "2             2.0                     NaN       2.0     2956.0   \n",
       "3             1.0                    35.0      10.0     5598.0   \n",
       "4             0.0                    38.0      15.0    27783.0   \n",
       "\n",
       "            ...             VT  WA  WI  WV  f  DIRECT_PAY  INDIVIDUAL  \\\n",
       "0           ...              0   0   0   0  1           0           1   \n",
       "1           ...              0   0   0   0  1           0           1   \n",
       "2           ...              0   0   0   0  1           0           1   \n",
       "3           ...              0   0   0   0  1           0           1   \n",
       "4           ...              0   0   0   0  1           0           1   \n",
       "\n",
       "   issue_d_month  issue_d_year  earliest_cr_line_month  earliest_cr_line_year  \\\n",
       "0             12          2011                      01                   1985   \n",
       "1             12          2011                      04                   1999   \n",
       "2             12          2011                      11                   2001   \n",
       "3             12          2011                      02                   1996   \n",
       "4             12          2011                      01                   1996   \n",
       "\n",
       "   last_pymnt_d_month  last_pymnt_d_year  last_credit_pull_d_month  \\\n",
       "0                  01               2015                        04   \n",
       "1                  04               2013                        10   \n",
       "2                  06               2014                        04   \n",
       "3                  01               2015                        04   \n",
       "4                  01               2017                        01   \n",
       "\n",
       "   last_credit_pull_d_year  \n",
       "0                     2017  \n",
       "1                     2016  \n",
       "2                     2017  \n",
       "3                     2016  \n",
       "4                     2017  \n",
       "\n",
       "[5 rows x 186 columns]"
      ]
     },
     "metadata": {},
     "output_type": "display_data"
    }
   ],
   "source": [
    "featuresToRemove = ['id',\n",
    "#                     'issue_d',\n",
    "#                     'last_credit_pull_d',\n",
    "#                     'last_pymnt_amnt',\n",
    "#                     'last_pymnt_d',\n",
    "#                     'member_id',\n",
    "#                     'next_pymnt_d',\n",
    "#                     'policy_code',\n",
    "#                     'revol_bal',\n",
    "#                     'revol_bal_joint',\n",
    "#                     'revol_util',\n",
    "#                     'title',\n",
    "#                     'total_pymnt',\n",
    "#                     'total_pymnt_inv',\n",
    "#                     'total_rec_int',\n",
    "#                     'total_rec_late_fee',\n",
    "#                     'total_rec_prncp',\n",
    "#                     'url']\n",
    "                   ]\n",
    "df.drop(featuresToRemove, axis = 1, inplace = True)\n",
    "display(df.head())"
   ]
  },
  {
   "cell_type": "markdown",
   "metadata": {},
   "source": [
    "### 8. Missing values imputation"
   ]
  },
  {
   "cell_type": "code",
   "execution_count": 11,
   "metadata": {
    "collapsed": false
   },
   "outputs": [],
   "source": [
    "for f in df.columns.values:\n",
    "    if df[f].dtype == np.float64 or df[f].dtype == np.int64:\n",
    "        df[f].fillna(df[f].median(),inplace = True)\n",
    "    else:\n",
    "        df[f].fillna(df[f].value_counts().index[0], inplace = True)"
   ]
  },
  {
   "cell_type": "markdown",
   "metadata": {},
   "source": [
    "## Saves this final DF to a csv file"
   ]
  },
  {
   "cell_type": "code",
   "execution_count": 18,
   "metadata": {
    "collapsed": true
   },
   "outputs": [],
   "source": [
    "df.to_csv(\"./p2p_lendingclub_clean.csv\", index = False)"
   ]
  },
  {
   "cell_type": "markdown",
   "metadata": {},
   "source": [
    "# OTHER STUFF"
   ]
  },
  {
   "cell_type": "markdown",
   "metadata": {},
   "source": [
    "#### Converting n/a into NaNs and NaNs into 0s"
   ]
  },
  {
   "cell_type": "code",
   "execution_count": null,
   "metadata": {
    "collapsed": true
   },
   "outputs": [],
   "source": [
    "df.replace('n/a', np.nan, inplace = True)\n",
    "df.replace(np.nan, 0.0, inplace = True)"
   ]
  },
  {
   "cell_type": "markdown",
   "metadata": {},
   "source": [
    "#### Dropping irrelevant of features that would strongly bias our models"
   ]
  },
  {
   "cell_type": "markdown",
   "metadata": {},
   "source": [
    "#### Checking data types"
   ]
  },
  {
   "cell_type": "code",
   "execution_count": null,
   "metadata": {
    "collapsed": false
   },
   "outputs": [],
   "source": [
    "# display(df.dtypes)"
   ]
  },
  {
   "cell_type": "markdown",
   "metadata": {},
   "source": [
    "#### Checking how many missing values we have per feature"
   ]
  },
  {
   "cell_type": "code",
   "execution_count": null,
   "metadata": {
    "collapsed": false
   },
   "outputs": [],
   "source": [
    "# display(df.isnull().sum() / df.shape[0])"
   ]
  },
  {
   "cell_type": "markdown",
   "metadata": {},
   "source": [
    "#### Getting rid of non-numeric data"
   ]
  },
  {
   "cell_type": "code",
   "execution_count": null,
   "metadata": {
    "collapsed": false
   },
   "outputs": [],
   "source": [
    "# df_num = df.select_dtypes(include=[np.number])\n",
    "# display(df_num.shape)\n",
    "# display(df_num)"
   ]
  },
  {
   "cell_type": "markdown",
   "metadata": {},
   "source": [
    "#### Checking the correlation between features"
   ]
  },
  {
   "cell_type": "code",
   "execution_count": 15,
   "metadata": {
    "collapsed": false
   },
   "outputs": [
    {
     "data": {
      "text/html": [
       "<div>\n",
       "<table border=\"1\" class=\"dataframe\">\n",
       "  <thead>\n",
       "    <tr style=\"text-align: right;\">\n",
       "      <th></th>\n",
       "      <th>loan_amnt</th>\n",
       "      <th>funded_amnt</th>\n",
       "      <th>funded_amnt_inv</th>\n",
       "      <th>int_rate</th>\n",
       "      <th>installment</th>\n",
       "      <th>annual_inc</th>\n",
       "      <th>zip_code</th>\n",
       "      <th>dti</th>\n",
       "      <th>fico_range_low</th>\n",
       "      <th>fico_range_high</th>\n",
       "      <th>inq_last_6mths</th>\n",
       "      <th>mths_since_last_delinq</th>\n",
       "      <th>open_acc</th>\n",
       "      <th>revol_bal</th>\n",
       "      <th>revol_util</th>\n",
       "      <th>...</th>\n",
       "      <th>PA</th>\n",
       "      <th>RI</th>\n",
       "      <th>SC</th>\n",
       "      <th>SD</th>\n",
       "      <th>TN</th>\n",
       "      <th>TX</th>\n",
       "      <th>UT</th>\n",
       "      <th>VA</th>\n",
       "      <th>VT</th>\n",
       "      <th>WA</th>\n",
       "      <th>WI</th>\n",
       "      <th>WV</th>\n",
       "      <th>f</th>\n",
       "      <th>DIRECT_PAY</th>\n",
       "      <th>INDIVIDUAL</th>\n",
       "    </tr>\n",
       "  </thead>\n",
       "  <tbody>\n",
       "    <tr>\n",
       "      <th>loan_amnt</th>\n",
       "      <td>1.000000</td>\n",
       "      <td>0.998905</td>\n",
       "      <td>0.996433</td>\n",
       "      <td>0.164108</td>\n",
       "      <td>0.953794</td>\n",
       "      <td>0.343733</td>\n",
       "      <td>0.000146</td>\n",
       "      <td>0.010949</td>\n",
       "      <td>0.097511</td>\n",
       "      <td>0.097511</td>\n",
       "      <td>0.010189</td>\n",
       "      <td>0.026296</td>\n",
       "      <td>0.196406</td>\n",
       "      <td>0.327251</td>\n",
       "      <td>0.103727</td>\n",
       "      <td>...</td>\n",
       "      <td>0.007766</td>\n",
       "      <td>0.006231</td>\n",
       "      <td>0.002857</td>\n",
       "      <td>0.004520</td>\n",
       "      <td>0.000809</td>\n",
       "      <td>0.030464</td>\n",
       "      <td>0.000409</td>\n",
       "      <td>0.016641</td>\n",
       "      <td>0.005981</td>\n",
       "      <td>0.003217</td>\n",
       "      <td>0.008672</td>\n",
       "      <td>0.003023</td>\n",
       "      <td>0.074834</td>\n",
       "      <td>0.003844</td>\n",
       "      <td>0.020541</td>\n",
       "    </tr>\n",
       "    <tr>\n",
       "      <th>funded_amnt</th>\n",
       "      <td>0.998905</td>\n",
       "      <td>1.000000</td>\n",
       "      <td>0.997746</td>\n",
       "      <td>0.164593</td>\n",
       "      <td>0.955450</td>\n",
       "      <td>0.343434</td>\n",
       "      <td>0.000269</td>\n",
       "      <td>0.011273</td>\n",
       "      <td>0.095408</td>\n",
       "      <td>0.095407</td>\n",
       "      <td>0.010478</td>\n",
       "      <td>0.026274</td>\n",
       "      <td>0.197126</td>\n",
       "      <td>0.327021</td>\n",
       "      <td>0.104342</td>\n",
       "      <td>...</td>\n",
       "      <td>0.007733</td>\n",
       "      <td>0.006301</td>\n",
       "      <td>0.002881</td>\n",
       "      <td>0.004478</td>\n",
       "      <td>0.000595</td>\n",
       "      <td>0.030476</td>\n",
       "      <td>0.000447</td>\n",
       "      <td>0.016663</td>\n",
       "      <td>0.005961</td>\n",
       "      <td>0.003360</td>\n",
       "      <td>0.008635</td>\n",
       "      <td>0.002933</td>\n",
       "      <td>0.076943</td>\n",
       "      <td>0.003775</td>\n",
       "      <td>0.020686</td>\n",
       "    </tr>\n",
       "    <tr>\n",
       "      <th>funded_amnt_inv</th>\n",
       "      <td>0.996433</td>\n",
       "      <td>0.997746</td>\n",
       "      <td>1.000000</td>\n",
       "      <td>0.165536</td>\n",
       "      <td>0.953116</td>\n",
       "      <td>0.342465</td>\n",
       "      <td>0.000576</td>\n",
       "      <td>0.012041</td>\n",
       "      <td>0.092713</td>\n",
       "      <td>0.092712</td>\n",
       "      <td>0.011791</td>\n",
       "      <td>0.024845</td>\n",
       "      <td>0.197991</td>\n",
       "      <td>0.326093</td>\n",
       "      <td>0.105314</td>\n",
       "      <td>...</td>\n",
       "      <td>0.007519</td>\n",
       "      <td>0.006286</td>\n",
       "      <td>0.002929</td>\n",
       "      <td>0.004387</td>\n",
       "      <td>0.000173</td>\n",
       "      <td>0.030461</td>\n",
       "      <td>0.000436</td>\n",
       "      <td>0.016515</td>\n",
       "      <td>0.005931</td>\n",
       "      <td>0.003284</td>\n",
       "      <td>0.008579</td>\n",
       "      <td>0.002721</td>\n",
       "      <td>0.081333</td>\n",
       "      <td>0.003660</td>\n",
       "      <td>0.020864</td>\n",
       "    </tr>\n",
       "    <tr>\n",
       "      <th>int_rate</th>\n",
       "      <td>0.164108</td>\n",
       "      <td>0.164593</td>\n",
       "      <td>0.165536</td>\n",
       "      <td>1.000000</td>\n",
       "      <td>0.159958</td>\n",
       "      <td>0.062902</td>\n",
       "      <td>0.005846</td>\n",
       "      <td>0.056350</td>\n",
       "      <td>0.458455</td>\n",
       "      <td>0.458451</td>\n",
       "      <td>0.223020</td>\n",
       "      <td>0.017819</td>\n",
       "      <td>0.007037</td>\n",
       "      <td>0.015379</td>\n",
       "      <td>0.282530</td>\n",
       "      <td>...</td>\n",
       "      <td>0.001621</td>\n",
       "      <td>0.000144</td>\n",
       "      <td>0.000261</td>\n",
       "      <td>0.001371</td>\n",
       "      <td>0.008895</td>\n",
       "      <td>0.005956</td>\n",
       "      <td>0.000133</td>\n",
       "      <td>0.000738</td>\n",
       "      <td>0.003210</td>\n",
       "      <td>0.001651</td>\n",
       "      <td>0.005052</td>\n",
       "      <td>0.001292</td>\n",
       "      <td>0.069017</td>\n",
       "      <td>0.046714</td>\n",
       "      <td>0.039260</td>\n",
       "    </tr>\n",
       "    <tr>\n",
       "      <th>installment</th>\n",
       "      <td>0.953794</td>\n",
       "      <td>0.955450</td>\n",
       "      <td>0.953116</td>\n",
       "      <td>0.159958</td>\n",
       "      <td>1.000000</td>\n",
       "      <td>0.336469</td>\n",
       "      <td>0.006470</td>\n",
       "      <td>0.010489</td>\n",
       "      <td>0.047084</td>\n",
       "      <td>0.047084</td>\n",
       "      <td>0.011859</td>\n",
       "      <td>0.028809</td>\n",
       "      <td>0.186511</td>\n",
       "      <td>0.314858</td>\n",
       "      <td>0.125522</td>\n",
       "      <td>...</td>\n",
       "      <td>0.012030</td>\n",
       "      <td>0.006441</td>\n",
       "      <td>0.003623</td>\n",
       "      <td>0.003863</td>\n",
       "      <td>0.001332</td>\n",
       "      <td>0.032988</td>\n",
       "      <td>0.001816</td>\n",
       "      <td>0.013516</td>\n",
       "      <td>0.006070</td>\n",
       "      <td>0.004421</td>\n",
       "      <td>0.009856</td>\n",
       "      <td>0.005390</td>\n",
       "      <td>0.036317</td>\n",
       "      <td>0.000638</td>\n",
       "      <td>0.021357</td>\n",
       "    </tr>\n",
       "  </tbody>\n",
       "</table>\n",
       "<p>5 rows × 177 columns</p>\n",
       "</div>"
      ],
      "text/plain": [
       "                 loan_amnt  funded_amnt  funded_amnt_inv  int_rate  \\\n",
       "loan_amnt         1.000000     0.998905         0.996433  0.164108   \n",
       "funded_amnt       0.998905     1.000000         0.997746  0.164593   \n",
       "funded_amnt_inv   0.996433     0.997746         1.000000  0.165536   \n",
       "int_rate          0.164108     0.164593         0.165536  1.000000   \n",
       "installment       0.953794     0.955450         0.953116  0.159958   \n",
       "\n",
       "                 installment  annual_inc  zip_code       dti  fico_range_low  \\\n",
       "loan_amnt           0.953794    0.343733  0.000146  0.010949        0.097511   \n",
       "funded_amnt         0.955450    0.343434  0.000269  0.011273        0.095408   \n",
       "funded_amnt_inv     0.953116    0.342465  0.000576  0.012041        0.092713   \n",
       "int_rate            0.159958    0.062902  0.005846  0.056350        0.458455   \n",
       "installment         1.000000    0.336469  0.006470  0.010489        0.047084   \n",
       "\n",
       "                 fico_range_high  inq_last_6mths  mths_since_last_delinq  \\\n",
       "loan_amnt               0.097511        0.010189                0.026296   \n",
       "funded_amnt             0.095407        0.010478                0.026274   \n",
       "funded_amnt_inv         0.092712        0.011791                0.024845   \n",
       "int_rate                0.458451        0.223020                0.017819   \n",
       "installment             0.047084        0.011859                0.028809   \n",
       "\n",
       "                 open_acc  revol_bal  revol_util     ...            PA  \\\n",
       "loan_amnt        0.196406   0.327251    0.103727     ...      0.007766   \n",
       "funded_amnt      0.197126   0.327021    0.104342     ...      0.007733   \n",
       "funded_amnt_inv  0.197991   0.326093    0.105314     ...      0.007519   \n",
       "int_rate         0.007037   0.015379    0.282530     ...      0.001621   \n",
       "installment      0.186511   0.314858    0.125522     ...      0.012030   \n",
       "\n",
       "                       RI        SC        SD        TN        TX        UT  \\\n",
       "loan_amnt        0.006231  0.002857  0.004520  0.000809  0.030464  0.000409   \n",
       "funded_amnt      0.006301  0.002881  0.004478  0.000595  0.030476  0.000447   \n",
       "funded_amnt_inv  0.006286  0.002929  0.004387  0.000173  0.030461  0.000436   \n",
       "int_rate         0.000144  0.000261  0.001371  0.008895  0.005956  0.000133   \n",
       "installment      0.006441  0.003623  0.003863  0.001332  0.032988  0.001816   \n",
       "\n",
       "                       VA        VT        WA        WI        WV         f  \\\n",
       "loan_amnt        0.016641  0.005981  0.003217  0.008672  0.003023  0.074834   \n",
       "funded_amnt      0.016663  0.005961  0.003360  0.008635  0.002933  0.076943   \n",
       "funded_amnt_inv  0.016515  0.005931  0.003284  0.008579  0.002721  0.081333   \n",
       "int_rate         0.000738  0.003210  0.001651  0.005052  0.001292  0.069017   \n",
       "installment      0.013516  0.006070  0.004421  0.009856  0.005390  0.036317   \n",
       "\n",
       "                 DIRECT_PAY  INDIVIDUAL  \n",
       "loan_amnt          0.003844    0.020541  \n",
       "funded_amnt        0.003775    0.020686  \n",
       "funded_amnt_inv    0.003660    0.020864  \n",
       "int_rate           0.046714    0.039260  \n",
       "installment        0.000638    0.021357  \n",
       "\n",
       "[5 rows x 177 columns]"
      ]
     },
     "metadata": {},
     "output_type": "display_data"
    }
   ],
   "source": [
    "df_correlation = df.corr().abs()\n",
    "display(df_correlation.head(5))\n",
    "#display(df_correlation)\n",
    "\n",
    "\n",
    "# import seaborn as sns\n",
    "# sns.heatmap(df_correlation,\n",
    "#             xticklabels=df_correlation.columns.values,\n",
    "#             yticklabels=df_correlation.columns.values)"
   ]
  },
  {
   "cell_type": "markdown",
   "metadata": {},
   "source": [
    "#### Let's take a look at string data"
   ]
  },
  {
   "cell_type": "code",
   "execution_count": null,
   "metadata": {
    "collapsed": false
   },
   "outputs": [],
   "source": []
  },
  {
   "cell_type": "markdown",
   "metadata": {
    "collapsed": true
   },
   "source": [
    "#### Runs a decision tree to see what's going on"
   ]
  },
  {
   "cell_type": "code",
   "execution_count": null,
   "metadata": {
    "collapsed": false
   },
   "outputs": [],
   "source": [
    "# from sklearn import tree\n",
    "# from sklearn.model_selection import train_test_split\n",
    "\n",
    "# X = df_num\n",
    "# y = df['loan_status']\n",
    "\n",
    "# xTrain, xTest, yTrain, yTest = train_test_split(X, y, test_size=0.33, random_state=42)\n",
    "\n",
    "# clf = tree.DecisionTreeClassifier()\n",
    "# clf.fit(xTrain, yTrain)\n"
   ]
  },
  {
   "cell_type": "code",
   "execution_count": null,
   "metadata": {
    "collapsed": false
   },
   "outputs": [],
   "source": [
    "# df.groupby('loan_status').count()"
   ]
  },
  {
   "cell_type": "code",
   "execution_count": null,
   "metadata": {
    "collapsed": false
   },
   "outputs": [],
   "source": [
    "# from IPython.display import Image  \n",
    "# import pydotplus \n",
    "# dot_data = tree.export_graphviz(clf, out_file=None, \n",
    "#                          feature_names=X.columns.values,  \n",
    "#                          class_names=y,  \n",
    "#                          filled=True, rounded=True,  \n",
    "#                          special_characters=True)  \n",
    "# graph = pydotplus.graph_from_dot_data(dot_data)  \n",
    "# Image(graph.create_png())"
   ]
  },
  {
   "cell_type": "code",
   "execution_count": null,
   "metadata": {
    "collapsed": true
   },
   "outputs": [],
   "source": []
  }
 ],
 "metadata": {
  "kernelspec": {
   "display_name": "Python 3",
   "language": "python",
   "name": "python3"
  },
  "language_info": {
   "codemirror_mode": {
    "name": "ipython",
    "version": 3
   },
   "file_extension": ".py",
   "mimetype": "text/x-python",
   "name": "python",
   "nbconvert_exporter": "python",
   "pygments_lexer": "ipython3",
   "version": "3.5.2"
  }
 },
 "nbformat": 4,
 "nbformat_minor": 2
}
